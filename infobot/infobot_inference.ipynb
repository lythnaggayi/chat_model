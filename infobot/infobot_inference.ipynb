{
 "cells": [
  {
   "cell_type": "code",
   "execution_count": 1,
   "id": "b25320cf",
   "metadata": {},
   "outputs": [],
   "source": [
    "import json\n",
    "import numpy as np\n",
    "from tensorflow import keras\n",
    "from sklearn.preprocessing import LabelEncoder\n",
    "import colorama\n",
    "colorama.init()\n",
    "from colorama import Fore, Style, Back\n",
    "import random\n",
    "import pickle"
   ]
  },
  {
   "cell_type": "code",
   "execution_count": 2,
   "id": "eece1b32",
   "metadata": {},
   "outputs": [],
   "source": [
    "with open('intents.json') as file:\n",
    "    data = json.load(file)"
   ]
  },
  {
   "cell_type": "code",
   "execution_count": null,
   "id": "625ad5a1",
   "metadata": {},
   "outputs": [
    {
     "name": "stdout",
     "output_type": "stream",
     "text": [
      "Start messaging the bot(type quit to stop!)\n",
      "User: hi\n",
      "1/1 [==============================] - 0s 153ms/step\n",
      "Chatbot:  Good to see you again!\n",
      "User: where is your university located\n",
      "1/1 [==============================] - 0s 20ms/step\n",
      "Chatbot:  <a target=\"_blank\" href=\"ADD YOU GOOGLE MAP LINK HERE\"> here</a>\n",
      "User: how much is the tuition\n",
      "1/1 [==============================] - 0s 21ms/step\n",
      "Chatbot:  For Fee detail visit <a target=\"_blank\" href=\"LINK\"> here</a>\n",
      "User: how cna i get a dorm\n",
      "1/1 [==============================] - 0s 18ms/step\n",
      "Chatbot:  Our university offers Information Technology, computer Engineering, Mechanical engineering,Chemical engineering, Civil engineering and extc Engineering.\n",
      "User: how can i get a dorm\n",
      "1/1 [==============================] - 0s 18ms/step\n",
      "Chatbot:  Our university offers Information Technology, computer Engineering, Mechanical engineering,Chemical engineering, Civil engineering and extc Engineering.\n",
      "User: do you offer acholarships\n",
      "1/1 [==============================] - 0s 20ms/step\n",
      "Chatbot:  For event detail visit <a target=\"_blank\" href=\"ADD YOUR FUNCTIONS LINK OR YOUR OWN RESPONSE\"> here</a>\n",
      "User: do you offer scholarships\n",
      "1/1 [==============================] - 0s 19ms/step\n",
      "Chatbot:  Many government scholarships are supported by our university. For details and updates visit <a target=\"_blank\" href=\"(SCHOLARSHIP DETAILS LINK)\">here</a>\n",
      "User: quit\n",
      "1/1 [==============================] - 0s 39ms/step\n",
      "Chatbot:  Hi there, how can I help?\n",
      "User: "
     ]
    }
   ],
   "source": [
    "def chat():\n",
    "    #load the model\n",
    "    model = keras.models.load_model(\"school_infobot\")\n",
    "    \n",
    "    #load the tokenizer\n",
    "    with open(\"tokenizer.pickle\", \"rb\") as handle:\n",
    "        tokenizer = pickle.load(handle)\n",
    "     \n",
    "    #load the label encoder\n",
    "    with open(\"label_encoder.pickle\", \"rb\") as enc:\n",
    "        lbl_encoder = pickle.load(enc)\n",
    "    \n",
    "    #parameters\n",
    "    max_len = 20\n",
    "    \n",
    "    while True:\n",
    "        print(Fore.LIGHTBLUE_EX + \"User: \" + Style.RESET_ALL, end=\"\")\n",
    "        inp = input()\n",
    "        if inp.lower == \"quit\":\n",
    "            break\n",
    "            \n",
    "        result = model.predict(keras.preprocessing.sequence.pad_sequences(tokenizer.texts_to_sequences([inp]), truncating='post', maxlen = max_len))\n",
    "        \n",
    "        tag = lbl_encoder.inverse_transform([np.argmax(result)])\n",
    "        \n",
    "        for i in data['intents']:\n",
    "            if i['tag'] == tag:\n",
    "                print(Fore.GREEN + \"Chatbot: \" + Style.RESET_ALL, np.random.choice(i['responses']))\n",
    "                \n",
    "print(Fore.YELLOW + \"Start messaging the bot(type quit to stop!)\" + Style.RESET_ALL)\n",
    "chat()"
   ]
  }
 ],
 "metadata": {
  "kernelspec": {
   "display_name": "Python 3 (ipykernel)",
   "language": "python",
   "name": "python3"
  },
  "language_info": {
   "codemirror_mode": {
    "name": "ipython",
    "version": 3
   },
   "file_extension": ".py",
   "mimetype": "text/x-python",
   "name": "python",
   "nbconvert_exporter": "python",
   "pygments_lexer": "ipython3",
   "version": "3.10.2"
  }
 },
 "nbformat": 4,
 "nbformat_minor": 5
}
